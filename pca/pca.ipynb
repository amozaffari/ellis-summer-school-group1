{
 "cells": [
  {
   "cell_type": "code",
   "execution_count": 2,
   "id": "1ee66016",
   "metadata": {},
   "outputs": [],
   "source": [
    "import xarray as xr\n",
    "import matplotlib.pyplot as plt\n",
    "import os\n",
    "import numpy as np\n",
    "import glob\n",
    "import pandas as pd\n",
    "import sklearn"
   ]
  },
  {
   "cell_type": "code",
   "execution_count": 3,
   "id": "4948443b",
   "metadata": {},
   "outputs": [],
   "source": [
    "fp = \"/ptmp/mp002/ellis/lai/\""
   ]
  },
  {
   "cell_type": "code",
   "execution_count": null,
   "id": "21b7055d",
   "metadata": {},
   "outputs": [
    {
     "ename": "AttributeError",
     "evalue": "'list' object has no attribute 'split'",
     "output_type": "error",
     "traceback": [
      "\u001b[0;31m---------------------------------------------------------------------------\u001b[0m",
      "\u001b[0;31mAttributeError\u001b[0m                            Traceback (most recent call last)",
      "Cell \u001b[0;32mIn[7], line 1\u001b[0m\n\u001b[0;32m----> 1\u001b[0m \u001b[43mglob\u001b[49m\u001b[38;5;241;43m.\u001b[39;49m\u001b[43mglob\u001b[49m\u001b[43m(\u001b[49m\u001b[43mfp\u001b[49m\u001b[38;5;241;43m+\u001b[39;49m\u001b[38;5;124;43m'\u001b[39;49m\u001b[38;5;124;43m/lai/*.nc\u001b[39;49m\u001b[38;5;124;43m'\u001b[39;49m\u001b[43m)\u001b[49m\u001b[38;5;241;43m.\u001b[39;49m\u001b[43msplit\u001b[49m(\u001b[38;5;124m\"\u001b[39m\u001b[38;5;124m.\u001b[39m\u001b[38;5;124m\"\u001b[39m)[\u001b[38;5;241m-\u001b[39m\u001b[38;5;241m2\u001b[39m]\n",
      "\u001b[0;31mAttributeError\u001b[0m: 'list' object has no attribute 'split'"
     ]
    }
   ],
   "source": [
    "glob.glob(fp+'/lai/*.nc')"
   ]
  },
  {
   "cell_type": "code",
   "execution_count": 14,
   "id": "4b6952b7",
   "metadata": {},
   "outputs": [
    {
     "ename": "ValueError",
     "evalue": "All arrays must be of the same length",
     "output_type": "error",
     "traceback": [
      "\u001b[0;31m---------------------------------------------------------------------------\u001b[0m",
      "\u001b[0;31mValueError\u001b[0m                                Traceback (most recent call last)",
      "Cell \u001b[0;32mIn[14], line 12\u001b[0m\n\u001b[1;32m     10\u001b[0m     \u001b[38;5;28;01mfor\u001b[39;00m filename \u001b[38;5;129;01min\u001b[39;00m filenames:\n\u001b[1;32m     11\u001b[0m         ds \u001b[38;5;241m=\u001b[39m xr\u001b[38;5;241m.\u001b[39mopen_dataset(filename)\n\u001b[0;32m---> 12\u001b[0m         temp_df \u001b[38;5;241m=\u001b[39m \u001b[43mpd\u001b[49m\u001b[38;5;241;43m.\u001b[39;49m\u001b[43mDataFrame\u001b[49m\u001b[43m(\u001b[49m\u001b[43m{\u001b[49m\u001b[38;5;124;43m\"\u001b[39;49m\u001b[38;5;124;43mYear\u001b[39;49m\u001b[38;5;124;43m\"\u001b[39;49m\u001b[43m:\u001b[49m\u001b[43m \u001b[49m\u001b[43mds\u001b[49m\u001b[38;5;241;43m.\u001b[39;49m\u001b[43mtime\u001b[49m\u001b[38;5;241;43m.\u001b[39;49m\u001b[43mvalues\u001b[49m\u001b[43m,\u001b[49m\u001b[43m \u001b[49m\u001b[43mfeature\u001b[49m\u001b[38;5;241;43m.\u001b[39;49m\u001b[43mupper\u001b[49m\u001b[43m(\u001b[49m\u001b[43m)\u001b[49m\u001b[43m:\u001b[49m\u001b[43m \u001b[49m\u001b[43mds\u001b[49m\u001b[43m[\u001b[49m\u001b[43mfeature\u001b[49m\u001b[43m]\u001b[49m\u001b[38;5;241;43m.\u001b[39;49m\u001b[43mvalues\u001b[49m\u001b[38;5;241;43m.\u001b[39;49m\u001b[43mflatten\u001b[49m\u001b[43m(\u001b[49m\u001b[43m)\u001b[49m\u001b[43m}\u001b[49m\u001b[43m)\u001b[49m\n\u001b[1;32m     13\u001b[0m         all_data \u001b[38;5;241m=\u001b[39m pd\u001b[38;5;241m.\u001b[39mconcat([all_data, temp_df], ignore_index\u001b[38;5;241m=\u001b[39m\u001b[38;5;28;01mTrue\u001b[39;00m)\n\u001b[1;32m     15\u001b[0m \u001b[38;5;66;03m# for lai_filename in glob.glob(fp+'/lai/*.nc'):\u001b[39;00m\n\u001b[1;32m     16\u001b[0m \n\u001b[1;32m     17\u001b[0m \u001b[38;5;66;03m#     # get timestamp (year)\u001b[39;00m\n\u001b[0;32m   (...)\u001b[0m\n\u001b[1;32m     33\u001b[0m \u001b[38;5;66;03m#     # temp_df = pd.DataFrame({\"Year\": year, \"TP\": ds.tp.values.flatten(), \"SSR\": ds.ssrd.values.flatten(), \"T2M\": ds.t2m.values.flatten()})\u001b[39;00m\n\u001b[1;32m     34\u001b[0m \u001b[38;5;66;03m#     # all_data = pd.concat([all_data, temp_df], ignore_index=True)\u001b[39;00m\n",
      "File \u001b[0;32m~/conda-envs/my_env/lib/python3.10/site-packages/pandas/core/frame.py:778\u001b[0m, in \u001b[0;36mDataFrame.__init__\u001b[0;34m(self, data, index, columns, dtype, copy)\u001b[0m\n\u001b[1;32m    772\u001b[0m     mgr \u001b[38;5;241m=\u001b[39m \u001b[38;5;28mself\u001b[39m\u001b[38;5;241m.\u001b[39m_init_mgr(\n\u001b[1;32m    773\u001b[0m         data, axes\u001b[38;5;241m=\u001b[39m{\u001b[38;5;124m\"\u001b[39m\u001b[38;5;124mindex\u001b[39m\u001b[38;5;124m\"\u001b[39m: index, \u001b[38;5;124m\"\u001b[39m\u001b[38;5;124mcolumns\u001b[39m\u001b[38;5;124m\"\u001b[39m: columns}, dtype\u001b[38;5;241m=\u001b[39mdtype, copy\u001b[38;5;241m=\u001b[39mcopy\n\u001b[1;32m    774\u001b[0m     )\n\u001b[1;32m    776\u001b[0m \u001b[38;5;28;01melif\u001b[39;00m \u001b[38;5;28misinstance\u001b[39m(data, \u001b[38;5;28mdict\u001b[39m):\n\u001b[1;32m    777\u001b[0m     \u001b[38;5;66;03m# GH#38939 de facto copy defaults to False only in non-dict cases\u001b[39;00m\n\u001b[0;32m--> 778\u001b[0m     mgr \u001b[38;5;241m=\u001b[39m \u001b[43mdict_to_mgr\u001b[49m\u001b[43m(\u001b[49m\u001b[43mdata\u001b[49m\u001b[43m,\u001b[49m\u001b[43m \u001b[49m\u001b[43mindex\u001b[49m\u001b[43m,\u001b[49m\u001b[43m \u001b[49m\u001b[43mcolumns\u001b[49m\u001b[43m,\u001b[49m\u001b[43m \u001b[49m\u001b[43mdtype\u001b[49m\u001b[38;5;241;43m=\u001b[39;49m\u001b[43mdtype\u001b[49m\u001b[43m,\u001b[49m\u001b[43m \u001b[49m\u001b[43mcopy\u001b[49m\u001b[38;5;241;43m=\u001b[39;49m\u001b[43mcopy\u001b[49m\u001b[43m,\u001b[49m\u001b[43m \u001b[49m\u001b[43mtyp\u001b[49m\u001b[38;5;241;43m=\u001b[39;49m\u001b[43mmanager\u001b[49m\u001b[43m)\u001b[49m\n\u001b[1;32m    779\u001b[0m \u001b[38;5;28;01melif\u001b[39;00m \u001b[38;5;28misinstance\u001b[39m(data, ma\u001b[38;5;241m.\u001b[39mMaskedArray):\n\u001b[1;32m    780\u001b[0m     \u001b[38;5;28;01mfrom\u001b[39;00m\u001b[38;5;250m \u001b[39m\u001b[38;5;21;01mnumpy\u001b[39;00m\u001b[38;5;21;01m.\u001b[39;00m\u001b[38;5;21;01mma\u001b[39;00m\u001b[38;5;250m \u001b[39m\u001b[38;5;28;01mimport\u001b[39;00m mrecords\n",
      "File \u001b[0;32m~/conda-envs/my_env/lib/python3.10/site-packages/pandas/core/internals/construction.py:503\u001b[0m, in \u001b[0;36mdict_to_mgr\u001b[0;34m(data, index, columns, dtype, typ, copy)\u001b[0m\n\u001b[1;32m    499\u001b[0m     \u001b[38;5;28;01melse\u001b[39;00m:\n\u001b[1;32m    500\u001b[0m         \u001b[38;5;66;03m# dtype check to exclude e.g. range objects, scalars\u001b[39;00m\n\u001b[1;32m    501\u001b[0m         arrays \u001b[38;5;241m=\u001b[39m [x\u001b[38;5;241m.\u001b[39mcopy() \u001b[38;5;28;01mif\u001b[39;00m \u001b[38;5;28mhasattr\u001b[39m(x, \u001b[38;5;124m\"\u001b[39m\u001b[38;5;124mdtype\u001b[39m\u001b[38;5;124m\"\u001b[39m) \u001b[38;5;28;01melse\u001b[39;00m x \u001b[38;5;28;01mfor\u001b[39;00m x \u001b[38;5;129;01min\u001b[39;00m arrays]\n\u001b[0;32m--> 503\u001b[0m \u001b[38;5;28;01mreturn\u001b[39;00m \u001b[43marrays_to_mgr\u001b[49m\u001b[43m(\u001b[49m\u001b[43marrays\u001b[49m\u001b[43m,\u001b[49m\u001b[43m \u001b[49m\u001b[43mcolumns\u001b[49m\u001b[43m,\u001b[49m\u001b[43m \u001b[49m\u001b[43mindex\u001b[49m\u001b[43m,\u001b[49m\u001b[43m \u001b[49m\u001b[43mdtype\u001b[49m\u001b[38;5;241;43m=\u001b[39;49m\u001b[43mdtype\u001b[49m\u001b[43m,\u001b[49m\u001b[43m \u001b[49m\u001b[43mtyp\u001b[49m\u001b[38;5;241;43m=\u001b[39;49m\u001b[43mtyp\u001b[49m\u001b[43m,\u001b[49m\u001b[43m \u001b[49m\u001b[43mconsolidate\u001b[49m\u001b[38;5;241;43m=\u001b[39;49m\u001b[43mcopy\u001b[49m\u001b[43m)\u001b[49m\n",
      "File \u001b[0;32m~/conda-envs/my_env/lib/python3.10/site-packages/pandas/core/internals/construction.py:114\u001b[0m, in \u001b[0;36marrays_to_mgr\u001b[0;34m(arrays, columns, index, dtype, verify_integrity, typ, consolidate)\u001b[0m\n\u001b[1;32m    111\u001b[0m \u001b[38;5;28;01mif\u001b[39;00m verify_integrity:\n\u001b[1;32m    112\u001b[0m     \u001b[38;5;66;03m# figure out the index, if necessary\u001b[39;00m\n\u001b[1;32m    113\u001b[0m     \u001b[38;5;28;01mif\u001b[39;00m index \u001b[38;5;129;01mis\u001b[39;00m \u001b[38;5;28;01mNone\u001b[39;00m:\n\u001b[0;32m--> 114\u001b[0m         index \u001b[38;5;241m=\u001b[39m \u001b[43m_extract_index\u001b[49m\u001b[43m(\u001b[49m\u001b[43marrays\u001b[49m\u001b[43m)\u001b[49m\n\u001b[1;32m    115\u001b[0m     \u001b[38;5;28;01melse\u001b[39;00m:\n\u001b[1;32m    116\u001b[0m         index \u001b[38;5;241m=\u001b[39m ensure_index(index)\n",
      "File \u001b[0;32m~/conda-envs/my_env/lib/python3.10/site-packages/pandas/core/internals/construction.py:677\u001b[0m, in \u001b[0;36m_extract_index\u001b[0;34m(data)\u001b[0m\n\u001b[1;32m    675\u001b[0m lengths \u001b[38;5;241m=\u001b[39m \u001b[38;5;28mlist\u001b[39m(\u001b[38;5;28mset\u001b[39m(raw_lengths))\n\u001b[1;32m    676\u001b[0m \u001b[38;5;28;01mif\u001b[39;00m \u001b[38;5;28mlen\u001b[39m(lengths) \u001b[38;5;241m>\u001b[39m \u001b[38;5;241m1\u001b[39m:\n\u001b[0;32m--> 677\u001b[0m     \u001b[38;5;28;01mraise\u001b[39;00m \u001b[38;5;167;01mValueError\u001b[39;00m(\u001b[38;5;124m\"\u001b[39m\u001b[38;5;124mAll arrays must be of the same length\u001b[39m\u001b[38;5;124m\"\u001b[39m)\n\u001b[1;32m    679\u001b[0m \u001b[38;5;28;01mif\u001b[39;00m have_dicts:\n\u001b[1;32m    680\u001b[0m     \u001b[38;5;28;01mraise\u001b[39;00m \u001b[38;5;167;01mValueError\u001b[39;00m(\n\u001b[1;32m    681\u001b[0m         \u001b[38;5;124m\"\u001b[39m\u001b[38;5;124mMixing dicts with non-Series may lead to ambiguous ordering.\u001b[39m\u001b[38;5;124m\"\u001b[39m\n\u001b[1;32m    682\u001b[0m     )\n",
      "\u001b[0;31mValueError\u001b[0m: All arrays must be of the same length"
     ]
    }
   ],
   "source": [
    "# First, loop through all input netcdf files, save to dataframe with timestamp\n",
    "all_data = pd.DataFrame()\n",
    "feature_folders = ['ssrd','tp','t2m']\n",
    "\n",
    "for feature in feature_folders[0:1]:\n",
    "    filenames = glob.glob(fp+'/'+feature+'/*.nc')\n",
    "    filenames\n",
    "\n",
    "    # append to all_data\n",
    "    for filename in filenames:\n",
    "        ds = xr.open_dataset(filename)\n",
    "        temp_df = pd.DataFrame({\"Year\": ds.time.values, feature.upper(): ds[feature].values.flatten()})\n",
    "        all_data = pd.concat([all_data, temp_df], ignore_index=True)\n",
    "\n",
    "# for lai_filename in glob.glob(fp+'/lai/*.nc'):\n",
    "\n",
    "#     # get timestamp (year)\n",
    "#     year = os.path.basename(lai_filename).split(\".\")[-2]\n",
    "#     print(year)\n",
    "    \n",
    "#     for feature in feature_folders:\n",
    "#         feature_filepath = glob.glob(fp+'/'+feature+'/*{year}*.nc')\n",
    "#     #     print(feature_filepath)\n",
    "#     #     ds = xr.open_dataset(feature_filepath)\n",
    "#     #     temp_df = pd.DataFrame({\"Year\": year, feature.upper(): ds[feature].values.flatten()})\n",
    "#     #     if feature == feature_folders[0]:\n",
    "#     #         temp_all_data = temp_df\n",
    "#     #     else:\n",
    "#     #         temp_all_data = pd.merge(temp_all_data, temp_df, on=[\"Year\"], how=\"outer\")\n",
    "\n",
    "#     # # # for each year, append data with their associated year to data frame\n",
    "#     # ds = xr.open_dataset(filepath)\n",
    "#     # temp_df = pd.DataFrame({\"Year\": year, \"TP\": ds.tp.values.flatten(), \"SSR\": ds.ssrd.values.flatten(), \"T2M\": ds.t2m.values.flatten()})\n",
    "#     # all_data = pd.concat([all_data, temp_df], ignore_index=True)\n"
   ]
  },
  {
   "cell_type": "code",
   "execution_count": 18,
   "id": "69b7e46d",
   "metadata": {},
   "outputs": [
    {
     "data": {
      "text/plain": [
       "array(['2006-01-15T00:00:00.000040000', '2006-01-31T00:00:00.000040000',\n",
       "       '2006-02-15T00:00:00.000040000', '2006-02-28T00:00:00.000040000',\n",
       "       '2006-03-15T00:00:00.000040000', '2006-03-31T00:00:00.000040000',\n",
       "       '2006-04-15T00:00:00.000040000', '2006-04-30T00:00:00.000040000',\n",
       "       '2006-05-15T00:00:00.000040000', '2006-05-31T00:00:00.000040000',\n",
       "       '2006-06-15T00:00:00.000040000', '2006-06-30T00:00:00.000040000',\n",
       "       '2006-07-15T00:00:00.000040000', '2006-07-31T00:00:00.000040000',\n",
       "       '2006-08-15T00:00:00.000040000', '2006-08-31T00:00:00.000040000',\n",
       "       '2006-09-15T00:00:00.000040000', '2006-09-30T00:00:00.000040000',\n",
       "       '2006-10-15T00:00:00.000040000', '2006-10-31T00:00:00.000040000',\n",
       "       '2006-11-15T00:00:00.000040000', '2006-11-30T00:00:00.000040000',\n",
       "       '2006-12-15T00:00:00.000040000', '2006-12-31T00:00:00.000040000'],\n",
       "      dtype='datetime64[ns]')"
      ]
     },
     "execution_count": 18,
     "metadata": {},
     "output_type": "execute_result"
    }
   ],
   "source": [
    "len(ds[feature].values.flatten())\n",
    "ds.time.values"
   ]
  },
  {
   "cell_type": "code",
   "execution_count": 13,
   "id": "6d5ce205",
   "metadata": {},
   "outputs": [
    {
     "data": {
      "text/plain": [
       "['/ptmp/mp002/ellis/lai//ssrd/ssrd.15daily.fc.era5.1440.720.2006.nc',\n",
       " '/ptmp/mp002/ellis/lai//ssrd/ssrd.15daily.fc.era5.1440.720.1996.nc',\n",
       " '/ptmp/mp002/ellis/lai//ssrd/ssrd.15daily.fc.era5.1440.720.2015.nc',\n",
       " '/ptmp/mp002/ellis/lai//ssrd/ssrd.15daily.fc.era5.1440.720.2001.nc',\n",
       " '/ptmp/mp002/ellis/lai//ssrd/ssrd.15daily.fc.era5.1440.720.2017.nc',\n",
       " '/ptmp/mp002/ellis/lai//ssrd/ssrd.15daily.fc.era5.1440.720.1982.nc',\n",
       " '/ptmp/mp002/ellis/lai//ssrd/ssrd.15daily.fc.era5.1440.720.2009.nc',\n",
       " '/ptmp/mp002/ellis/lai//ssrd/ssrd.15daily.fc.era5.1440.720.2005.nc',\n",
       " '/ptmp/mp002/ellis/lai//ssrd/ssrd.15daily.fc.era5.1440.720.2014.nc',\n",
       " '/ptmp/mp002/ellis/lai//ssrd/ssrd.15daily.fc.era5.1440.720.1993.nc',\n",
       " '/ptmp/mp002/ellis/lai//ssrd/ssrd.15daily.fc.era5.1440.720.1984.nc',\n",
       " '/ptmp/mp002/ellis/lai//ssrd/ssrd.15daily.fc.era5.1440.720.1994.nc',\n",
       " '/ptmp/mp002/ellis/lai//ssrd/ssrd.15daily.fc.era5.1440.720.1980.nc',\n",
       " '/ptmp/mp002/ellis/lai//ssrd/ssrd.15daily.fc.era5.1440.720.2008.nc',\n",
       " '/ptmp/mp002/ellis/lai//ssrd/ssrd.15daily.fc.era5.1440.720.2010.nc',\n",
       " '/ptmp/mp002/ellis/lai//ssrd/ssrd.15daily.fc.era5.1440.720.2016.nc',\n",
       " '/ptmp/mp002/ellis/lai//ssrd/ssrd.15daily.fc.era5.1440.720.1981.nc',\n",
       " '/ptmp/mp002/ellis/lai//ssrd/ssrd.15daily.fc.era5.1440.720.1983.nc',\n",
       " '/ptmp/mp002/ellis/lai//ssrd/ssrd.15daily.fc.era5.1440.720.1987.nc',\n",
       " '/ptmp/mp002/ellis/lai//ssrd/ssrd.15daily.fc.era5.1440.720.2013.nc',\n",
       " '/ptmp/mp002/ellis/lai//ssrd/ssrd.15daily.fc.era5.1440.720.1998.nc',\n",
       " '/ptmp/mp002/ellis/lai//ssrd/ssrd.15daily.fc.era5.1440.720.2018.nc',\n",
       " '/ptmp/mp002/ellis/lai//ssrd/ssrd.15daily.fc.era5.1440.720.2004.nc',\n",
       " '/ptmp/mp002/ellis/lai//ssrd/ssrd.15daily.fc.era5.1440.720.2019.nc',\n",
       " '/ptmp/mp002/ellis/lai//ssrd/ssrd.15daily.fc.era5.1440.720.1986.nc',\n",
       " '/ptmp/mp002/ellis/lai//ssrd/ssrd.15daily.fc.era5.1440.720.1989.nc',\n",
       " '/ptmp/mp002/ellis/lai//ssrd/ssrd.15daily.fc.era5.1440.720.1999.nc',\n",
       " '/ptmp/mp002/ellis/lai//ssrd/ssrd.15daily.fc.era5.1440.720.1992.nc',\n",
       " '/ptmp/mp002/ellis/lai//ssrd/ssrd.15daily.fc.era5.1440.720.2012.nc',\n",
       " '/ptmp/mp002/ellis/lai//ssrd/ssrd.15daily.fc.era5.1440.720.2000.nc',\n",
       " '/ptmp/mp002/ellis/lai//ssrd/ssrd.15daily.fc.era5.1440.720.1988.nc',\n",
       " '/ptmp/mp002/ellis/lai//ssrd/ssrd.15daily.fc.era5.1440.720.1997.nc',\n",
       " '/ptmp/mp002/ellis/lai//ssrd/ssrd.15daily.fc.era5.1440.720.1991.nc',\n",
       " '/ptmp/mp002/ellis/lai//ssrd/ssrd.15daily.fc.era5.1440.720.1979.nc',\n",
       " '/ptmp/mp002/ellis/lai//ssrd/ssrd.15daily.fc.era5.1440.720.1995.nc',\n",
       " '/ptmp/mp002/ellis/lai//ssrd/ssrd.15daily.fc.era5.1440.720.2011.nc',\n",
       " '/ptmp/mp002/ellis/lai//ssrd/ssrd.15daily.fc.era5.1440.720.2003.nc',\n",
       " '/ptmp/mp002/ellis/lai//ssrd/ssrd.15daily.fc.era5.1440.720.2007.nc',\n",
       " '/ptmp/mp002/ellis/lai//ssrd/ssrd.15daily.fc.era5.1440.720.2002.nc',\n",
       " '/ptmp/mp002/ellis/lai//ssrd/ssrd.15daily.fc.era5.1440.720.1990.nc',\n",
       " '/ptmp/mp002/ellis/lai//ssrd/ssrd.15daily.fc.era5.1440.720.1985.nc']"
      ]
     },
     "execution_count": 13,
     "metadata": {},
     "output_type": "execute_result"
    }
   ],
   "source": [
    "filenames = glob.glob(fp+'/'+feature+'/*.nc')\n",
    "filenames\n"
   ]
  },
  {
   "cell_type": "code",
   "execution_count": null,
   "id": "e3fd2852",
   "metadata": {},
   "outputs": [],
   "source": [
    "# put features and target into a dataframe\n",
    "\n",
    "features = ['tp','ssrd','t2m'] # total precipitation, short wave radiation downward, temperature 2 m\n",
    "target = ['lai']\n",
    "\n"
   ]
  }
 ],
 "metadata": {
  "kernelspec": {
   "display_name": "my_env",
   "language": "python",
   "name": "python3"
  },
  "language_info": {
   "codemirror_mode": {
    "name": "ipython",
    "version": 3
   },
   "file_extension": ".py",
   "mimetype": "text/x-python",
   "name": "python",
   "nbconvert_exporter": "python",
   "pygments_lexer": "ipython3",
   "version": "3.10.18"
  }
 },
 "nbformat": 4,
 "nbformat_minor": 5
}
